{
 "cells": [
  {
   "cell_type": "code",
   "execution_count": 14,
   "metadata": {},
   "outputs": [],
   "source": [
    "# Dependencies\n",
    "\n",
    "import pandas as pd\n",
    "from sklearn.metrics import confusion_matrix\n",
    "from sklearn.metrics import classification_report\n",
    "from sklearn.metrics import accuracy_score"
   ]
  },
  {
   "cell_type": "code",
   "execution_count": 3,
   "metadata": {},
   "outputs": [
    {
     "data": {
      "text/html": [
       "<div>\n",
       "<style scoped>\n",
       "    .dataframe tbody tr th:only-of-type {\n",
       "        vertical-align: middle;\n",
       "    }\n",
       "\n",
       "    .dataframe tbody tr th {\n",
       "        vertical-align: top;\n",
       "    }\n",
       "\n",
       "    .dataframe thead th {\n",
       "        text-align: right;\n",
       "    }\n",
       "</style>\n",
       "<table border=\"1\" class=\"dataframe\">\n",
       "  <thead>\n",
       "    <tr style=\"text-align: right;\">\n",
       "      <th></th>\n",
       "      <th>make</th>\n",
       "      <th>address</th>\n",
       "      <th>all</th>\n",
       "      <th>3d</th>\n",
       "      <th>our</th>\n",
       "      <th>over</th>\n",
       "      <th>remove</th>\n",
       "      <th>internet</th>\n",
       "      <th>order</th>\n",
       "      <th>mail</th>\n",
       "      <th>...</th>\n",
       "      <th>semicol</th>\n",
       "      <th>paren</th>\n",
       "      <th>bracket</th>\n",
       "      <th>bang</th>\n",
       "      <th>dollar</th>\n",
       "      <th>pound</th>\n",
       "      <th>cap_avg</th>\n",
       "      <th>cap_long</th>\n",
       "      <th>cap_total</th>\n",
       "      <th>Class</th>\n",
       "    </tr>\n",
       "  </thead>\n",
       "  <tbody>\n",
       "    <tr>\n",
       "      <th>0</th>\n",
       "      <td>0.00</td>\n",
       "      <td>0.00</td>\n",
       "      <td>0.29</td>\n",
       "      <td>0.0</td>\n",
       "      <td>0.00</td>\n",
       "      <td>0.00</td>\n",
       "      <td>0.00</td>\n",
       "      <td>0.00</td>\n",
       "      <td>0.00</td>\n",
       "      <td>0.00</td>\n",
       "      <td>...</td>\n",
       "      <td>0.000</td>\n",
       "      <td>0.178</td>\n",
       "      <td>0.0</td>\n",
       "      <td>0.044</td>\n",
       "      <td>0.000</td>\n",
       "      <td>0.00</td>\n",
       "      <td>1.666</td>\n",
       "      <td>10</td>\n",
       "      <td>180</td>\n",
       "      <td>ham</td>\n",
       "    </tr>\n",
       "    <tr>\n",
       "      <th>1</th>\n",
       "      <td>0.46</td>\n",
       "      <td>0.00</td>\n",
       "      <td>0.00</td>\n",
       "      <td>0.0</td>\n",
       "      <td>0.00</td>\n",
       "      <td>0.00</td>\n",
       "      <td>0.00</td>\n",
       "      <td>0.00</td>\n",
       "      <td>0.00</td>\n",
       "      <td>0.00</td>\n",
       "      <td>...</td>\n",
       "      <td>0.000</td>\n",
       "      <td>0.125</td>\n",
       "      <td>0.0</td>\n",
       "      <td>0.000</td>\n",
       "      <td>0.000</td>\n",
       "      <td>0.00</td>\n",
       "      <td>1.510</td>\n",
       "      <td>10</td>\n",
       "      <td>74</td>\n",
       "      <td>ham</td>\n",
       "    </tr>\n",
       "    <tr>\n",
       "      <th>2</th>\n",
       "      <td>0.00</td>\n",
       "      <td>0.00</td>\n",
       "      <td>0.00</td>\n",
       "      <td>0.0</td>\n",
       "      <td>0.00</td>\n",
       "      <td>0.00</td>\n",
       "      <td>0.00</td>\n",
       "      <td>0.00</td>\n",
       "      <td>0.00</td>\n",
       "      <td>0.00</td>\n",
       "      <td>...</td>\n",
       "      <td>0.000</td>\n",
       "      <td>0.000</td>\n",
       "      <td>0.0</td>\n",
       "      <td>0.000</td>\n",
       "      <td>0.000</td>\n",
       "      <td>0.00</td>\n",
       "      <td>1.718</td>\n",
       "      <td>11</td>\n",
       "      <td>55</td>\n",
       "      <td>ham</td>\n",
       "    </tr>\n",
       "    <tr>\n",
       "      <th>3</th>\n",
       "      <td>0.33</td>\n",
       "      <td>0.44</td>\n",
       "      <td>0.37</td>\n",
       "      <td>0.0</td>\n",
       "      <td>0.14</td>\n",
       "      <td>0.11</td>\n",
       "      <td>0.00</td>\n",
       "      <td>0.07</td>\n",
       "      <td>0.97</td>\n",
       "      <td>1.16</td>\n",
       "      <td>...</td>\n",
       "      <td>0.006</td>\n",
       "      <td>0.159</td>\n",
       "      <td>0.0</td>\n",
       "      <td>0.069</td>\n",
       "      <td>0.221</td>\n",
       "      <td>0.11</td>\n",
       "      <td>3.426</td>\n",
       "      <td>72</td>\n",
       "      <td>819</td>\n",
       "      <td>spam</td>\n",
       "    </tr>\n",
       "    <tr>\n",
       "      <th>4</th>\n",
       "      <td>0.00</td>\n",
       "      <td>2.08</td>\n",
       "      <td>0.00</td>\n",
       "      <td>0.0</td>\n",
       "      <td>3.12</td>\n",
       "      <td>0.00</td>\n",
       "      <td>1.04</td>\n",
       "      <td>0.00</td>\n",
       "      <td>0.00</td>\n",
       "      <td>0.00</td>\n",
       "      <td>...</td>\n",
       "      <td>0.000</td>\n",
       "      <td>0.000</td>\n",
       "      <td>0.0</td>\n",
       "      <td>0.263</td>\n",
       "      <td>0.000</td>\n",
       "      <td>0.00</td>\n",
       "      <td>1.428</td>\n",
       "      <td>4</td>\n",
       "      <td>20</td>\n",
       "      <td>spam</td>\n",
       "    </tr>\n",
       "  </tbody>\n",
       "</table>\n",
       "<p>5 rows × 58 columns</p>\n",
       "</div>"
      ],
      "text/plain": [
       "   make  address   all   3d   our  over  remove  internet  order  mail  ...  \\\n",
       "0  0.00     0.00  0.29  0.0  0.00  0.00    0.00      0.00   0.00  0.00  ...   \n",
       "1  0.46     0.00  0.00  0.0  0.00  0.00    0.00      0.00   0.00  0.00  ...   \n",
       "2  0.00     0.00  0.00  0.0  0.00  0.00    0.00      0.00   0.00  0.00  ...   \n",
       "3  0.33     0.44  0.37  0.0  0.14  0.11    0.00      0.07   0.97  1.16  ...   \n",
       "4  0.00     2.08  0.00  0.0  3.12  0.00    1.04      0.00   0.00  0.00  ...   \n",
       "\n",
       "   semicol  paren  bracket   bang  dollar  pound  cap_avg  cap_long  \\\n",
       "0    0.000  0.178      0.0  0.044   0.000   0.00    1.666        10   \n",
       "1    0.000  0.125      0.0  0.000   0.000   0.00    1.510        10   \n",
       "2    0.000  0.000      0.0  0.000   0.000   0.00    1.718        11   \n",
       "3    0.006  0.159      0.0  0.069   0.221   0.11    3.426        72   \n",
       "4    0.000  0.000      0.0  0.263   0.000   0.00    1.428         4   \n",
       "\n",
       "   cap_total  Class  \n",
       "0        180    ham  \n",
       "1         74    ham  \n",
       "2         55    ham  \n",
       "3        819   spam  \n",
       "4         20   spam  \n",
       "\n",
       "[5 rows x 58 columns]"
      ]
     },
     "execution_count": 3,
     "metadata": {},
     "output_type": "execute_result"
    }
   ],
   "source": [
    "# Store CSV of given dataset into DataFrame.\n",
    "\n",
    "csv_file = \"spam.csv\"\n",
    "spam_df = pd.read_csv(csv_file)\n",
    "spam_df.head()"
   ]
  },
  {
   "cell_type": "code",
   "execution_count": 4,
   "metadata": {},
   "outputs": [
    {
     "name": "stdout",
     "output_type": "stream",
     "text": [
      "total rows are :  4601\n",
      "total columns are :  58\n"
     ]
    }
   ],
   "source": [
    "#Checking number of rows & columns.\n",
    "\n",
    "total_rows=len(spam_df.axes[0])\n",
    "total_cols=len(spam_df.axes[1])\n",
    "print('total rows are : ', total_rows)\n",
    "print('total columns are : ', total_cols)"
   ]
  },
  {
   "cell_type": "code",
   "execution_count": 5,
   "metadata": {},
   "outputs": [
    {
     "data": {
      "text/plain": [
       "False"
      ]
     },
     "execution_count": 5,
     "metadata": {},
     "output_type": "execute_result"
    }
   ],
   "source": [
    "#Checking for null values in dataframe.\n",
    "\n",
    "spam_df.isnull().values.any()\n",
    "\n",
    "#After running the above line of code the result is \"False\", hence, there are no null values in the given dataset."
   ]
  },
  {
   "cell_type": "code",
   "execution_count": 6,
   "metadata": {},
   "outputs": [
    {
     "name": "stdout",
     "output_type": "stream",
     "text": [
      "Total number of rows assigned to \"Class Spam\" = 1813\n",
      "Total number of rows assigned to \"Class Ham\" = 2788\n"
     ]
    }
   ],
   "source": [
    "#Dataframe for class 'spam'\n",
    "class_spam = spam_df.loc[spam_df['Class'] == 'spam']\n",
    "\n",
    "#\n",
    "total_spam_rows=len(class_spam.axes[0])\n",
    "print('Total number of rows assigned to \"Class Spam\" =', total_spam_rows)\n",
    "\n",
    "#------\n",
    "\n",
    "#Dataframe for class 'ham'\n",
    "class_ham = spam_df.loc[spam_df['Class'] == 'ham']\n",
    "\n",
    "#\n",
    "total_ham_rows=len(class_ham.axes[0])\n",
    "print('Total number of rows assigned to \"Class Ham\" =', total_ham_rows)"
   ]
  },
  {
   "cell_type": "code",
   "execution_count": 7,
   "metadata": {},
   "outputs": [
    {
     "name": "stdout",
     "output_type": "stream",
     "text": [
      "Shape of new dataframes - (1000, 58) , (3601, 58)\n"
     ]
    }
   ],
   "source": [
    "# splitting dataframe by row index\n",
    "train_df = spam_df.iloc[:1000,:]\n",
    "test_df = spam_df.iloc[1000:,:]\n",
    "print(\"Shape of new dataframes - {} , {}\".format(train_df.shape, test_df.shape))"
   ]
  },
  {
   "cell_type": "code",
   "execution_count": 8,
   "metadata": {},
   "outputs": [
    {
     "data": {
      "text/plain": [
       "Index(['make', 'address', 'all', '3d', 'our', 'over', 'remove', 'internet',\n",
       "       'order', 'mail', 'receive', 'will', 'people', 'report', 'addresses',\n",
       "       'free', 'business', 'email', 'you', 'credit', 'your', 'font', '0',\n",
       "       'money', 'hp', 'hpl', 'george', '650', 'lab', 'labs', 'telnet', '857',\n",
       "       'data', '415', '85', 'technology', '1999', 'parts', 'pm', 'direct',\n",
       "       'cs', 'meeting', 'original', 'project', 're', 'edu', 'table',\n",
       "       'conference', 'semicol', 'paren', 'bracket', 'bang', 'dollar', 'pound',\n",
       "       'cap_avg', 'cap_long', 'cap_total', 'Class'],\n",
       "      dtype='object')"
      ]
     },
     "execution_count": 8,
     "metadata": {},
     "output_type": "execute_result"
    }
   ],
   "source": [
    "#Checking names of columns.\n",
    "spam_df.columns"
   ]
  },
  {
   "cell_type": "code",
   "execution_count": 9,
   "metadata": {},
   "outputs": [
    {
     "data": {
      "text/plain": [
       "array(['ham', 'spam'], dtype=object)"
      ]
     },
     "execution_count": 9,
     "metadata": {},
     "output_type": "execute_result"
    }
   ],
   "source": [
    "spam_df['Class'].unique()"
   ]
  },
  {
   "cell_type": "code",
   "execution_count": 10,
   "metadata": {},
   "outputs": [],
   "source": [
    "# Create data model for Training\n",
    "x_train = train_df[['make', 'address', 'all', '3d', 'our', 'over', 'remove', 'internet',\n",
    "                   'order', 'mail', 'receive', 'will', 'people', 'report', 'addresses',\n",
    "                   'free', 'business', 'email', 'you', 'credit', 'your', 'font', '0',\n",
    "                   'money', 'hp', 'hpl', 'george', '650', 'lab', 'labs', 'telnet', '857',\n",
    "                   'data', '415', '85', 'technology', '1999', 'parts', 'pm', 'direct',\n",
    "                   'cs', 'meeting', 'original', 'project', 're', 'edu', 'table',\n",
    "                   'conference', 'semicol', 'paren', 'bracket', 'bang', 'dollar', 'pound',\n",
    "                   'cap_avg', 'cap_long', 'cap_total']]\n",
    "\n",
    "y_train = train_df['Class']"
   ]
  },
  {
   "cell_type": "code",
   "execution_count": 11,
   "metadata": {},
   "outputs": [],
   "source": [
    "# Create data model for Testing\n",
    "x_test = test_df[['make', 'address', 'all', '3d', 'our', 'over', 'remove', 'internet',\n",
    "                   'order', 'mail', 'receive', 'will', 'people', 'report', 'addresses',\n",
    "                   'free', 'business', 'email', 'you', 'credit', 'your', 'font', '0',\n",
    "                   'money', 'hp', 'hpl', 'george', '650', 'lab', 'labs', 'telnet', '857',\n",
    "                   'data', '415', '85', 'technology', '1999', 'parts', 'pm', 'direct',\n",
    "                   'cs', 'meeting', 'original', 'project', 're', 'edu', 'table',\n",
    "                   'conference', 'semicol', 'paren', 'bracket', 'bang', 'dollar', 'pound',\n",
    "                   'cap_avg', 'cap_long', 'cap_total']]\n",
    "\n",
    "y_test = test_df['Class']"
   ]
  },
  {
   "cell_type": "code",
   "execution_count": 18,
   "metadata": {},
   "outputs": [
    {
     "name": "stdout",
     "output_type": "stream",
     "text": [
      "~ Decision Tree classifier ~\n",
      "\n",
      "Class Predictions: \n",
      " ['ham' 'ham' 'spam' ... 'ham' 'ham' 'spam'] \n",
      "\n",
      "Classification Accuracy: \n",
      " 0.8850319355734518 \n",
      "\n",
      "Confusion Matrix: \n",
      " [[1972  210]\n",
      " [ 204 1215]] \n",
      "\n",
      "Classification Report: \n",
      "               precision    recall  f1-score   support\n",
      "\n",
      "         ham       0.91      0.90      0.91      2182\n",
      "        spam       0.85      0.86      0.85      1419\n",
      "\n",
      "    accuracy                           0.89      3601\n",
      "   macro avg       0.88      0.88      0.88      3601\n",
      "weighted avg       0.89      0.89      0.89      3601\n",
      "\n"
     ]
    }
   ],
   "source": [
    "# Decision Tree classifier\n",
    "#----------------------------\n",
    "from sklearn import tree\n",
    "\n",
    "#------------------------------------------------------\n",
    "\n",
    "# Fit the training model to the desired classifier\n",
    "decision_tree_clf = tree.DecisionTreeClassifier(criterion = \"entropy\")\n",
    "decision_tree_clf = decision_tree_clf.fit(x_train, y_train)\n",
    "\n",
    "# Metrics\n",
    "dt_predict = decision_tree_clf.predict(x_test)\n",
    "dt_accuracy = accuracy_score(y_test, dt_predict)\n",
    "dt_con_mat = confusion_matrix(y_test, dt_predict)\n",
    "dt_class_re = classification_report(y_test, dt_predict)\n",
    "\n",
    "print(\"~ Decision Tree classifier ~\\n\")\n",
    "print(\"Class Predictions: \\n\", dt_predict, \"\\n\")\n",
    "print(\"Classification Accuracy: \\n\", dt_accuracy, \"\\n\")\n",
    "print(\"Confusion Matrix: \\n\", dt_con_mat, \"\\n\")\n",
    "print(\"Classification Report: \\n\", dt_class_re)\n"
   ]
  },
  {
   "cell_type": "code",
   "execution_count": 30,
   "metadata": {},
   "outputs": [
    {
     "name": "stdout",
     "output_type": "stream",
     "text": [
      "Classification Accuracy with 10 estimators:  0.9125242988058873 \n",
      "\n",
      "Classification Accuracy with 50 estimators:  0.9308525409608442 \n",
      "\n",
      "Classification Accuracy with 100 estimators:  0.933074146070536 \n",
      "\n",
      "Classification Accuracy with 500 estimators:  0.9339072479866704 \n",
      "\n",
      "Classification Accuracy with 1000 estimators:  0.9347403499028047 \n",
      "\n",
      "Classification Accuracy with 5000 estimators:  0.9341849486253818 \n",
      "\n"
     ]
    }
   ],
   "source": [
    "# Random Forest classifier\n",
    "#--------------------------\n",
    "from sklearn.ensemble import RandomForestClassifier\n",
    "#------------------------------------------------------\n",
    "\n",
    "# 1. Random Forest classifier with 10 estimators \n",
    "random_forest_clf1 = RandomForestClassifier(n_estimators=10, max_features='auto')\n",
    "random_forest_clf1 = random_forest_clf1.fit(x_train, y_train)\n",
    "rf_accuracy1 = random_forest_clf1.score(x_test, y_test)\n",
    "print(\"Classification Accuracy with 10 estimators: \", rf_accuracy1, \"\\n\")\n",
    "\n",
    "\n",
    "# 2. Random Forest classifier with 50 estimators \n",
    "random_forest_clf2 = RandomForestClassifier(n_estimators=50, max_features='auto')\n",
    "random_forest_clf2 = random_forest_clf2.fit(x_train, y_train)\n",
    "rf_accuracy2 = random_forest_clf2.score(x_test, y_test)\n",
    "print(\"Classification Accuracy with 50 estimators: \", rf_accuracy2, \"\\n\")\n",
    "\n",
    "\n",
    "# 3. Random Forest classifier with 100 estimators \n",
    "random_forest_clf3 = RandomForestClassifier(n_estimators=100, max_features='auto')\n",
    "random_forest_clf3 = random_forest_clf3.fit(x_train, y_train)\n",
    "rf_accuracy3 = random_forest_clf3.score(x_test, y_test)\n",
    "print(\"Classification Accuracy with 100 estimators: \", rf_accuracy3, \"\\n\")\n",
    "\n",
    "\n",
    "# 4. Random Forest classifier with 500 estimators \n",
    "random_forest_clf4 = RandomForestClassifier(n_estimators=500, max_features='auto')\n",
    "random_forest_clf4 = random_forest_clf4.fit(x_train, y_train)\n",
    "rf_accuracy4 = random_forest_clf4.score(x_test, y_test)\n",
    "print(\"Classification Accuracy with 500 estimators: \", rf_accuracy4, \"\\n\")\n",
    "\n",
    "\n",
    "# 5. Random Forest classifier with 1000 estimators \n",
    "random_forest_clf5 = RandomForestClassifier(n_estimators=1000, max_features='auto')\n",
    "random_forest_clf5 = random_forest_clf5.fit(x_train, y_train)\n",
    "rf_accuracy5 = random_forest_clf5.score(x_test, y_test)\n",
    "print(\"Classification Accuracy with 1000 estimators: \", rf_accuracy5, \"\\n\")\n",
    "\n",
    "\n",
    "# 6. Random Forest classifier with 5000 estimators \n",
    "random_forest_clf6 = RandomForestClassifier(n_estimators=5000, max_features='auto')\n",
    "random_forest_clf6 = random_forest_clf6.fit(x_train, y_train)\n",
    "rf_accuracy6 = random_forest_clf6.score(x_test, y_test)\n",
    "print(\"Classification Accuracy with 5000 estimators: \", rf_accuracy6, \"\\n\")\n"
   ]
  },
  {
   "cell_type": "code",
   "execution_count": 31,
   "metadata": {},
   "outputs": [
    {
     "name": "stdout",
     "output_type": "stream",
     "text": [
      "Classification Accuracy with 10 regression trees:  0.9122465981671758 \n",
      "\n",
      "Classification Accuracy with 50 regression trees:  0.9302971396834213 \n",
      "\n",
      "Classification Accuracy with 100 regression trees:  0.9355734518189391 \n",
      "\n"
     ]
    }
   ],
   "source": [
    "# Boosting Ensemble with logistic regression classifier as the base learner\n",
    "#------------------------------------------------------------------------------\n",
    "from sklearn.ensemble import GradientBoostingClassifier\n",
    "#--------------------------------------------------------\n",
    "\n",
    "# 1. Gradient Boosting with 10 regression trees \n",
    "boosting_clf1 = GradientBoostingClassifier(n_estimators=10)\n",
    "boosting_clf1 = boosting_clf1.fit(x_train, y_train)\n",
    "boost_accuracy1 = boosting_clf1.score(x_test, y_test)\n",
    "print(\"Classification Accuracy with 10 regression trees: \", boost_accuracy1, \"\\n\")\n",
    "\n",
    "\n",
    "# 2. Gradient Boosting with 50 regression trees \n",
    "boosting_clf2 = GradientBoostingClassifier(n_estimators=50)\n",
    "boosting_clf2 = boosting_clf2.fit(x_train, y_train)\n",
    "boost_accuracy2 = boosting_clf2.score(x_test, y_test)\n",
    "print(\"Classification Accuracy with 50 regression trees: \", boost_accuracy2, \"\\n\")\n",
    "\n",
    "\n",
    "# 3. Gradient Boosting with 100 regression trees \n",
    "boosting_clf3 = GradientBoostingClassifier(n_estimators=100)\n",
    "boosting_clf3 = boosting_clf3.fit(x_train, y_train)\n",
    "boost_accuracy3 = boosting_clf3.score(x_test, y_test)\n",
    "print(\"Classification Accuracy with 100 regression trees: \", boost_accuracy3, \"\\n\")"
   ]
  },
  {
   "cell_type": "code",
   "execution_count": 34,
   "metadata": {},
   "outputs": [
    {
     "name": "stdout",
     "output_type": "stream",
     "text": [
      "Adaboost Classification Accuracy with 10 decision trees:  0.9030824770896974 \n",
      "\n",
      "Adaboost Classification Accuracy with 50 decision trees:  0.9197445154123854 \n",
      "\n",
      "Adaboost Classification Accuracy with 100 decision trees:  0.9205776173285198 \n",
      "\n"
     ]
    }
   ],
   "source": [
    "# AdaBoost Ensemble with Decision Tree as the base learner\n",
    "#-----------------------------------------------------------\n",
    "\n",
    "from sklearn.ensemble import AdaBoostClassifier\n",
    "#----------------------------------------------------\n",
    "\n",
    "# 1. AdaBoost Classifier with 10 decision trees \n",
    "adaboost_clf1 = AdaBoostClassifier(base_estimator=None, n_estimators=10)     #If 'None', then the base estimator is 'DecisionTreeClassifier' initialized with max_depth=1.\n",
    "adaboost_clf1 = adaboost_clf1.fit(x_train, y_train)\n",
    "adaboost_accuracy1 = adaboost_clf1.score(x_test, y_test)\n",
    "print(\"Adaboost Classification Accuracy with 10 decision trees: \", adaboost_accuracy1, \"\\n\")\n",
    "\n",
    "\n",
    "# 2. AdaBoost Classifier with 50 decision trees \n",
    "adaboost_clf2 = AdaBoostClassifier(base_estimator=None, n_estimators=50)     #If 'None', then the base estimator is 'DecisionTreeClassifier' initialized with max_depth=1.\n",
    "adaboost_clf2 = adaboost_clf2.fit(x_train, y_train)\n",
    "adaboost_accuracy2 = adaboost_clf2.score(x_test, y_test)\n",
    "print(\"Adaboost Classification Accuracy with 50 decision trees: \", adaboost_accuracy2, \"\\n\")\n",
    "\n",
    "\n",
    "# 3. AdaBoost Classifier with 100 decision trees \n",
    "adaboost_clf3 = AdaBoostClassifier(base_estimator=None, n_estimators=100)     #If 'None', then the base estimator is 'DecisionTreeClassifier' initialized with max_depth=1.\n",
    "adaboost_clf3 = adaboost_clf3.fit(x_train, y_train)\n",
    "adaboost_accuracy3 = adaboost_clf3.score(x_test, y_test)\n",
    "print(\"Adaboost Classification Accuracy with 100 decision trees: \", adaboost_accuracy3, \"\\n\")\n",
    "\n"
   ]
  },
  {
   "cell_type": "code",
   "execution_count": null,
   "metadata": {},
   "outputs": [],
   "source": []
  }
 ],
 "metadata": {
  "kernelspec": {
   "display_name": "Python 3",
   "language": "python",
   "name": "python3"
  },
  "language_info": {
   "codemirror_mode": {
    "name": "ipython",
    "version": 3
   },
   "file_extension": ".py",
   "mimetype": "text/x-python",
   "name": "python",
   "nbconvert_exporter": "python",
   "pygments_lexer": "ipython3",
   "version": "3.7.6"
  }
 },
 "nbformat": 4,
 "nbformat_minor": 4
}
